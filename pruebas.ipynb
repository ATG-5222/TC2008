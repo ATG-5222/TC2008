{
 "cells": [
  {
   "cell_type": "code",
   "execution_count": 385,
   "metadata": {},
   "outputs": [],
   "source": [
    "import pandas as pd\n",
    "import numpy as np"
   ]
  },
  {
   "cell_type": "code",
   "execution_count": 386,
   "metadata": {},
   "outputs": [],
   "source": [
    "grid = np.zeros( (4, 5) )"
   ]
  },
  {
   "cell_type": "code",
   "execution_count": 387,
   "metadata": {},
   "outputs": [
    {
     "data": {
      "text/plain": [
       "array([[0., 0., 0., 0., 0.],\n",
       "       [0., 0., 0., 0., 0.],\n",
       "       [0., 0., 0., 0., 0.],\n",
       "       [0., 0., 0., 0., 0.]])"
      ]
     },
     "execution_count": 387,
     "metadata": {},
     "output_type": "execute_result"
    }
   ],
   "source": [
    "grid"
   ]
  },
  {
   "cell_type": "code",
   "execution_count": 388,
   "metadata": {},
   "outputs": [
    {
     "data": {
      "text/plain": [
       "array([[20., 20., 20., 20., 20.],\n",
       "       [20., 20., 20., 20., 20.],\n",
       "       [20., 20., 20., 20., 20.],\n",
       "       [20., 20., 20., 20., 20.],\n",
       "       [20., 20., 20., 20., 20.]])"
      ]
     },
     "execution_count": 388,
     "metadata": {},
     "output_type": "execute_result"
    }
   ],
   "source": [
    "grid2 = np.zeros( (5, 5) )\n",
    "for ren in range(5):\n",
    "    for col in range(5):\n",
    "        grid2[ren][col] = 20\n",
    "grid2"
   ]
  },
  {
   "cell_type": "code",
   "execution_count": 389,
   "metadata": {},
   "outputs": [
    {
     "data": {
      "text/plain": [
       "array([[21., 21., 21., 21., 21.],\n",
       "       [21., 21., 21., 21., 21.],\n",
       "       [21., 21., 21., 21., 21.],\n",
       "       [21., 21., 21., 21., 21.],\n",
       "       [21., 21., 21., 21., 21.]])"
      ]
     },
     "execution_count": 389,
     "metadata": {},
     "output_type": "execute_result"
    }
   ],
   "source": [
    "for ren in range(5):\n",
    "    for col in range(5):\n",
    "        grid2[ren][col] += 1\n",
    "grid2"
   ]
  },
  {
   "cell_type": "code",
   "execution_count": 390,
   "metadata": {},
   "outputs": [
    {
     "data": {
      "text/plain": [
       "21.0"
      ]
     },
     "execution_count": 390,
     "metadata": {},
     "output_type": "execute_result"
    }
   ],
   "source": [
    "celda0 = grid2[0][0]\n",
    "celda0"
   ]
  },
  {
   "cell_type": "code",
   "execution_count": 391,
   "metadata": {},
   "outputs": [
    {
     "data": {
      "text/plain": [
       "array([[16., 21., 21., 21., 21.],\n",
       "       [21., 21., 21., 21., 21.],\n",
       "       [21., 21., 21., 21., 21.],\n",
       "       [21., 21., 21., 21., 21.],\n",
       "       [21., 21., 21., 21., 21.]])"
      ]
     },
     "execution_count": 391,
     "metadata": {},
     "output_type": "execute_result"
    }
   ],
   "source": [
    "grid2[0][0] -= 5\n",
    "grid2"
   ]
  },
  {
   "cell_type": "code",
   "execution_count": 392,
   "metadata": {},
   "outputs": [
    {
     "data": {
      "text/plain": [
       "21.0"
      ]
     },
     "execution_count": 392,
     "metadata": {},
     "output_type": "execute_result"
    }
   ],
   "source": [
    "celda1 = grid2[1][1]\n",
    "celda1"
   ]
  },
  {
   "cell_type": "code",
   "execution_count": 393,
   "metadata": {},
   "outputs": [
    {
     "name": "stdout",
     "output_type": "stream",
     "text": [
      "0\n",
      "1\n",
      "2\n",
      "3\n",
      "4\n",
      "5\n",
      "6\n",
      "7\n",
      "8\n",
      "9\n",
      "10\n",
      "11\n",
      "12\n",
      "13\n",
      "14\n"
     ]
    }
   ],
   "source": [
    "for i in range(15):\n",
    "    print(i)"
   ]
  },
  {
   "cell_type": "code",
   "execution_count": 394,
   "metadata": {},
   "outputs": [],
   "source": [
    "import random"
   ]
  },
  {
   "cell_type": "code",
   "execution_count": 395,
   "metadata": {},
   "outputs": [
    {
     "name": "stdout",
     "output_type": "stream",
     "text": [
      "0\n"
     ]
    }
   ],
   "source": [
    "print(random.choice([0,1]))"
   ]
  },
  {
   "cell_type": "code",
   "execution_count": 396,
   "metadata": {},
   "outputs": [
    {
     "name": "stdout",
     "output_type": "stream",
     "text": [
      "3\n",
      "Cosas despues de la función\n"
     ]
    }
   ],
   "source": [
    "def uno():\n",
    "    if 1 == 1:\n",
    "        print(1)\n",
    "        return True\n",
    "    else:\n",
    "        return False\n",
    "\n",
    "def dos():\n",
    "    if 2 == 2:\n",
    "        print(2)\n",
    "        return True\n",
    "    else:\n",
    "        return False\n",
    "\n",
    "def tres():\n",
    "    if 3 == 3:\n",
    "        print(3)\n",
    "        return True\n",
    "    else:\n",
    "        return False\n",
    "\n",
    "def cuatro():\n",
    "    if 4 == 4:\n",
    "        print(4)\n",
    "        return True\n",
    "    else:\n",
    "        return False\n",
    "\n",
    "def cinco():\n",
    "    print(5)\n",
    "\n",
    "\n",
    "def elegirCamino(options):\n",
    "    elements = len(options)\n",
    "    if elements != 0:\n",
    "        choice = random.choice(options)\n",
    "        completed = True\n",
    "        if choice == 1:\n",
    "            task = uno()\n",
    "            if task != completed:\n",
    "                options.remove(1)\n",
    "                elegirCamino(options)\n",
    "        if choice == 2:\n",
    "            task = dos()\n",
    "            if task != completed:\n",
    "                options.remove(2)\n",
    "                elegirCamino(options)\n",
    "        if choice == 3:\n",
    "            task = tres()\n",
    "            if task != completed:\n",
    "                options.remove(3)\n",
    "                elegirCamino(options)\n",
    "        if choice == 4:\n",
    "            task = cuatro()\n",
    "            if task != completed:\n",
    "                options.remove(4)\n",
    "                elegirCamino(options)\n",
    "    else:\n",
    "        cinco()\n",
    "\n",
    "def camino():\n",
    "    list1 = [1,2,3,4]\n",
    "    elegirCamino(list1)\n",
    "\n",
    "camino()\n",
    "print(\"Cosas despues de la función\")"
   ]
  },
  {
   "cell_type": "code",
   "execution_count": 397,
   "metadata": {},
   "outputs": [
    {
     "name": "stdout",
     "output_type": "stream",
     "text": [
      "77\n",
      "77.5\n"
     ]
    }
   ],
   "source": [
    "operacion1 = 155//2\n",
    "print(operacion1)\n",
    "operacion2 = 155/2\n",
    "print(operacion2)"
   ]
  },
  {
   "cell_type": "code",
   "execution_count": 398,
   "metadata": {},
   "outputs": [
    {
     "data": {
      "text/plain": [
       "24"
      ]
     },
     "execution_count": 398,
     "metadata": {},
     "output_type": "execute_result"
    }
   ],
   "source": [
    "x = random.randint(0,35)\n",
    "x"
   ]
  },
  {
   "cell_type": "code",
   "execution_count": 399,
   "metadata": {},
   "outputs": [
    {
     "data": {
      "text/plain": [
       "4"
      ]
     },
     "execution_count": 399,
     "metadata": {},
     "output_type": "execute_result"
    }
   ],
   "source": [
    "posibleDirections = (1,2,3,4)\n",
    "len(posibleDirections)"
   ]
  },
  {
   "cell_type": "code",
   "execution_count": 400,
   "metadata": {},
   "outputs": [
    {
     "data": {
      "text/plain": [
       "(1, 3, 4)"
      ]
     },
     "execution_count": 400,
     "metadata": {},
     "output_type": "execute_result"
    }
   ],
   "source": [
    "posibleDirections = (1,2,3,4)\n",
    "tempList = list(posibleDirections)\n",
    "tempList.remove(2)\n",
    "outTuple = tuple(tempList)\n",
    "outTuple"
   ]
  },
  {
   "cell_type": "code",
   "execution_count": 401,
   "metadata": {},
   "outputs": [
    {
     "name": "stdout",
     "output_type": "stream",
     "text": [
      "0\n",
      "No hay elementos\n"
     ]
    }
   ],
   "source": [
    "posibleDirections = ()\n",
    "elements = len(posibleDirections)\n",
    "print(elements)\n",
    "if elements != 0:\n",
    "    choice = np.random.choice(posibleDirections)\n",
    "    print(choice)\n",
    "else:\n",
    "    print(\"No hay elementos\")"
   ]
  },
  {
   "cell_type": "code",
   "execution_count": 404,
   "metadata": {},
   "outputs": [
    {
     "name": "stdout",
     "output_type": "stream",
     "text": [
      "No se puede mover\n"
     ]
    }
   ],
   "source": [
    "elemento = 9\n",
    "limite = 10\n",
    "if elemento+1 <= limite:\n",
    "    print(\"Se puede mover\")\n",
    "else:\n",
    "    print(\"No se puede mover\")"
   ]
  },
  {
   "cell_type": "code",
   "execution_count": 406,
   "metadata": {},
   "outputs": [
    {
     "name": "stdout",
     "output_type": "stream",
     "text": [
      "No se puede mover\n"
     ]
    }
   ],
   "source": [
    "elemento = 0\n",
    "limite = 0\n",
    "if elemento-1 >= limite:\n",
    "    print(\"Se puede mover\")\n",
    "else:\n",
    "    print(\"No se puede mover\")"
   ]
  },
  {
   "cell_type": "code",
   "execution_count": 409,
   "metadata": {},
   "outputs": [
    {
     "name": "stdout",
     "output_type": "stream",
     "text": [
      "False\n"
     ]
    }
   ],
   "source": [
    "if 11 <= 10:\n",
    "    print(\"True\")\n",
    "else:\n",
    "    print(\"False\")"
   ]
  },
  {
   "cell_type": "code",
   "execution_count": 412,
   "metadata": {},
   "outputs": [
    {
     "name": "stdout",
     "output_type": "stream",
     "text": [
      "False\n"
     ]
    }
   ],
   "source": [
    "if -1 >= 0:\n",
    "    print(\"True\")\n",
    "else:\n",
    "    print(\"False\")"
   ]
  }
 ],
 "metadata": {
  "kernelspec": {
   "display_name": "Python 3.10.0 64-bit",
   "language": "python",
   "name": "python3"
  },
  "language_info": {
   "codemirror_mode": {
    "name": "ipython",
    "version": 3
   },
   "file_extension": ".py",
   "mimetype": "text/x-python",
   "name": "python",
   "nbconvert_exporter": "python",
   "pygments_lexer": "ipython3",
   "version": "3.10.0"
  },
  "orig_nbformat": 4,
  "vscode": {
   "interpreter": {
    "hash": "9cd1b26266772f1694a3e145fa513fe1341c026ef85c2877ac5b6cf68d324322"
   }
  }
 },
 "nbformat": 4,
 "nbformat_minor": 2
}
